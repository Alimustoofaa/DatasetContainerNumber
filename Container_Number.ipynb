{
  "nbformat": 4,
  "nbformat_minor": 0,
  "metadata": {
    "colab": {
      "name": "Container_Number.ipynb",
      "provenance": [],
      "private_outputs": true,
      "collapsed_sections": [],
      "toc_visible": true,
      "include_colab_link": true
    },
    "kernelspec": {
      "name": "python3",
      "display_name": "Python 3"
    },
    "accelerator": "GPU"
  },
  "cells": [
    {
      "cell_type": "markdown",
      "metadata": {
        "id": "view-in-github",
        "colab_type": "text"
      },
      "source": [
        "<a href=\"https://colab.research.google.com/github/Alimustoofaa/DatasetContainerNumber/blob/master/Container_Number.ipynb\" target=\"_parent\"><img src=\"https://colab.research.google.com/assets/colab-badge.svg\" alt=\"Open In Colab\"/></a>"
      ]
    },
    {
      "cell_type": "markdown",
      "metadata": {
        "id": "DLkjEl2r8iiR",
        "colab_type": "text"
      },
      "source": [
        "# Install Detectron2"
      ]
    },
    {
      "cell_type": "code",
      "metadata": {
        "id": "_CMhXbZB8bXu",
        "colab_type": "code",
        "colab": {}
      },
      "source": [
        "# install dependencies: (use cu100 because colab is on CUDA 10.0)\n",
        "!pip install -U torch==1.4+cu100 torchvision==0.5+cu100 -f https://download.pytorch.org/whl/torch_stable.html \n",
        "!pip install cython pyyaml==5.1\n",
        "!pip install -U 'git+https://github.com/cocodataset/cocoapi.git#subdirectory=PythonAPI'\n",
        "import torch, torchvision\n",
        "torch.__version__\n",
        "!gcc --version"
      ],
      "execution_count": null,
      "outputs": []
    },
    {
      "cell_type": "code",
      "metadata": {
        "id": "1w6MXKlZ9ROP",
        "colab_type": "code",
        "colab": {}
      },
      "source": [
        "!pip install detectron2 -f https://dl.fbaipublicfiles.com/detectron2/wheels/cu100/index.html"
      ],
      "execution_count": null,
      "outputs": []
    },
    {
      "cell_type": "code",
      "metadata": {
        "id": "OeJpj_kzS7Ce",
        "colab_type": "code",
        "colab": {}
      },
      "source": [
        "from google.colab import drive\n",
        "drive.mount('/content/drive')"
      ],
      "execution_count": null,
      "outputs": []
    },
    {
      "cell_type": "code",
      "metadata": {
        "id": "uw1OOIP7_l4X",
        "colab_type": "code",
        "colab": {}
      },
      "source": [
        "import cv2\n",
        "import matplotlib.pyplot as plt\n",
        "\n",
        "from detectron2.modeling import build_model\n",
        "from detectron2.config import get_cfg\n",
        "from detectron2.checkpoint import DetectionCheckpointer\n",
        "from detectron2.engine import DefaultPredictor\n",
        "from detectron2.utils.visualizer import Visualizer\n",
        "from detectron2 import model_zoo\n",
        "from detectron2.data import MetadataCatalog, DatasetCatalog"
      ],
      "execution_count": null,
      "outputs": []
    },
    {
      "cell_type": "code",
      "metadata": {
        "id": "QrTPK112TKKq",
        "colab_type": "code",
        "colab": {}
      },
      "source": [
        "cfg = get_cfg()\n",
        "cfg.merge_from_file(model_zoo.get_config_file('COCO-Detection/faster_rcnn_R_101_FPN_3x.yaml'))\n",
        "cfg.MODEL.ROI_HEADS.SCORE_THRESH_TEST = 0.5 # Set threshold for this model\n",
        "cfg.MODEL.WEIGHTS = '/content/drive/My Drive/HALOTEC/CONTAINER_NUMBER_V2/Faster_RNN/output/model_final.pth' # Set model .pth\n",
        "cfg.MODEL.ROI_HEADS.NUM_CLASSES = 1\n",
        "predictor = DefaultPredictor(cfg)"
      ],
      "execution_count": null,
      "outputs": []
    },
    {
      "cell_type": "code",
      "metadata": {
        "id": "uJ0Wyjw-Dqe4",
        "colab_type": "code",
        "colab": {}
      },
      "source": [
        "im = cv2.imread('/content/1907172159070010610.jpg')\n",
        "outputs = predictor(im)\n",
        "\n",
        "try:\n",
        "  v = Visualizer(im[:, :, ::-1], MetadataCatalog.get(cfg.DATASETS.TRAIN[0]), scale=1.2)\n",
        "  v = v.draw_instance_predictions(outputs[\"instances\"].to(\"cpu\"))\n",
        "  plt.figure(figsize = (14, 10))\n",
        "  plt.imshow(cv2.cvtColor(v.get_image()[:, :, ::-1], cv2.COLOR_BGR2RGB))\n",
        "  plt.show()\n",
        "except:\n",
        "  print(\"no boxes detected\")"
      ],
      "execution_count": null,
      "outputs": []
    },
    {
      "cell_type": "code",
      "metadata": {
        "id": "uehwqh3cHWeH",
        "colab_type": "code",
        "colab": {}
      },
      "source": [
        "import uuid \n",
        "\n",
        "boxes = {}\n",
        "score_array = []\n",
        "img_crop_array = []\n",
        "for i, coordinates in enumerate(outputs[\"instances\"].to(\"cpu\").pred_boxes, start=0):\n",
        "  score_array.append(outputs[\"instances\"].scores[i].item())\n",
        "  coordinates_array = []\n",
        "  for k in coordinates:\n",
        "    coordinates_array.append(int(k))\n",
        "  boxes[uuid.uuid4().hex[:].upper()] = coordinates_array\n",
        "\n",
        "for k,v in boxes.items():\n",
        "  crop_img = im[v[1]-13:v[3]+13, v[0]-13:v[2]+13, :]\n",
        "  img_crop_array.append(crop_img)\n",
        "\n",
        "score_hight = max(range(len(score_array)), key=score_array.__getitem__)\n",
        "img_detection = cv2.cvtColor(img_crop_array[score_hight], cv2.COLOR_BGR2RGB)\n",
        "print('Score : ', score_array[score_hight])\n",
        "\n",
        "plt.imshow(img_detection)\n",
        "plt.show()\n",
        "plt.imsave('test.jpg', img_detection)\n"
      ],
      "execution_count": null,
      "outputs": []
    }
  ]
}